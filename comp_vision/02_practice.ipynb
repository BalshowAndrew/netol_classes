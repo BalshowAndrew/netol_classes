{
 "cells": [
  {
   "cell_type": "markdown",
   "id": "5c77812a",
   "metadata": {},
   "source": [
    "# Dogs vs Cats"
   ]
  },
  {
   "cell_type": "markdown",
   "id": "a396d968",
   "metadata": {},
   "source": [
    "## Загрузка датасета из Kaggle"
   ]
  },
  {
   "cell_type": "code",
   "execution_count": 1,
   "id": "5ed2b443",
   "metadata": {},
   "outputs": [
    {
     "name": "stdout",
     "output_type": "stream",
     "text": [
      "pip install kaggle\n",
      "Requirement already satisfied: kaggle in /usr/local/lib/python3.11/dist-packages (1.7.4.5)\n",
      "Requirement already satisfied: bleach in /usr/local/lib/python3.11/dist-packages (from kaggle) (6.2.0)\n",
      "Requirement already satisfied: certifi>=14.05.14 in /usr/local/lib/python3.11/dist-packages (from kaggle) (2025.6.15)\n",
      "Requirement already satisfied: charset-normalizer in /usr/local/lib/python3.11/dist-packages (from kaggle) (3.4.2)\n",
      "Requirement already satisfied: idna in /usr/local/lib/python3.11/dist-packages (from kaggle) (3.10)\n",
      "Requirement already satisfied: protobuf in /usr/local/lib/python3.11/dist-packages (from kaggle) (5.29.5)\n",
      "Requirement already satisfied: python-dateutil>=2.5.3 in /usr/local/lib/python3.11/dist-packages (from kaggle) (2.9.0.post0)\n",
      "Requirement already satisfied: python-slugify in /usr/local/lib/python3.11/dist-packages (from kaggle) (8.0.4)\n",
      "Requirement already satisfied: requests in /usr/local/lib/python3.11/dist-packages (from kaggle) (2.32.3)\n",
      "Requirement already satisfied: setuptools>=21.0.0 in /usr/local/lib/python3.11/dist-packages (from kaggle) (75.2.0)\n",
      "Requirement already satisfied: six>=1.10 in /usr/local/lib/python3.11/dist-packages (from kaggle) (1.17.0)\n",
      "Requirement already satisfied: text-unidecode in /usr/local/lib/python3.11/dist-packages (from kaggle) (1.3)\n",
      "Requirement already satisfied: tqdm in /usr/local/lib/python3.11/dist-packages (from kaggle) (4.67.1)\n",
      "Requirement already satisfied: urllib3>=1.15.1 in /usr/local/lib/python3.11/dist-packages (from kaggle) (2.4.0)\n",
      "Requirement already satisfied: webencodings in /usr/local/lib/python3.11/dist-packages (from kaggle) (0.5.1)\n",
      "mkdir ~/.kaggle\n",
      "mkdir: cannot create directory ‘/root/.kaggle’: File exists\n",
      "make: *** [Makefile:7: dir] Error 1\n"
     ]
    }
   ],
   "source": [
    "!make"
   ]
  },
  {
   "cell_type": "code",
   "execution_count": 1,
   "id": "352261d1",
   "metadata": {},
   "outputs": [],
   "source": [
    "import kaggle"
   ]
  },
  {
   "cell_type": "code",
   "execution_count": 2,
   "id": "bf9fed53",
   "metadata": {},
   "outputs": [],
   "source": [
    "kaggle.api.authenticate()"
   ]
  },
  {
   "cell_type": "code",
   "execution_count": 3,
   "id": "7661f07d",
   "metadata": {},
   "outputs": [],
   "source": [
    "kaggle.api.competition_download_files('dogs-vs-cats-redux-kernels-edition', path='datas')"
   ]
  },
  {
   "cell_type": "markdown",
   "id": "9e526e10",
   "metadata": {},
   "source": [
    "## Распаковка zip-архивов"
   ]
  },
  {
   "cell_type": "code",
   "execution_count": null,
   "id": "9c80a448",
   "metadata": {},
   "outputs": [],
   "source": [
    "import zipfile\n",
    "import os\n",
    "\n",
    "os.makedirs('datas/extracted', exist_ok=True)\n",
    "\n",
    "with zipfile.ZipFile('datas/dogs-vs-cats-redux-kernels-edition.zip', 'r') as zip_ref:\n",
    "        zip_ref.extractall('datas/extracted')"
   ]
  },
  {
   "cell_type": "code",
   "execution_count": null,
   "id": "80ac1f9a",
   "metadata": {},
   "outputs": [],
   "source": [
    "with zipfile.ZipFile('datas/extracted/train.zip','r') as zip_ref:\n",
    "        zip_ref.extractall('datas/extracted')\n",
    "\n",
    "with zipfile.ZipFile('datas/extracted/test.zip','r') as zip_ref:\n",
    "        zip_ref.extractall('datas/extracted')"
   ]
  },
  {
   "cell_type": "markdown",
   "id": "f375223b",
   "metadata": {},
   "source": [
    "## Импорт необоходимых библиотек"
   ]
  },
  {
   "cell_type": "code",
   "execution_count": 14,
   "id": "cdd88d67",
   "metadata": {},
   "outputs": [
    {
     "name": "stdout",
     "output_type": "stream",
     "text": [
      "2.18.0\n",
      "True\n"
     ]
    }
   ],
   "source": [
    "import os\n",
    "from random import shuffle\n",
    "from glob import glob\n",
    "\n",
    "import cv2\n",
    "import numpy as np\n",
    "import tensorflow as tf \n",
    "from tensorflow.keras.applications import vgg16\n",
    "\n",
    "print(tf.__version__)\n",
    "print(tf.executing_eagerly())"
   ]
  },
  {
   "cell_type": "markdown",
   "id": "b6396c61",
   "metadata": {},
   "source": [
    "## Функции загрузки данных"
   ]
  },
  {
   "cell_type": "code",
   "execution_count": 25,
   "id": "86a04d0d",
   "metadata": {},
   "outputs": [],
   "source": [
    "IMG_SIZE = (224, 224)  # размер входного изображения сети\n",
    "\n",
    "# Возвращает список путей к файлам\n",
    "train_files = glob('datas/extracted/train/*.jpg')\n",
    "test_files = glob('data/extracted/test/*.jpg')"
   ]
  },
  {
   "cell_type": "code",
   "execution_count": 26,
   "id": "54c06748",
   "metadata": {},
   "outputs": [],
   "source": [
    "# загружаем входное изображение и предобрабатываем\n",
    "def load_image(path, target_size=IMG_SIZE):\n",
    "    img = cv2.imread(path)[...,::-1]\n",
    "    img = cv2.resize(img, target_size)\n",
    "    return vgg16.preprocess_input(img)  # предобработка для VGG16"
   ]
  },
  {
   "cell_type": "markdown",
   "id": "147e46e3",
   "metadata": {},
   "source": [
    "Функция `load_image` загружает картинук по уазанному пути и выполняет следующие преобразования:\n",
    "- превращает изобразение в массив,\n",
    "- изменяет размер изображения\n",
    "- предобработка для VGG16"
   ]
  },
  {
   "cell_type": "code",
   "execution_count": 27,
   "id": "4d0dc9ae",
   "metadata": {},
   "outputs": [],
   "source": [
    "# функция-генератор загрузки обучающих данных с диска\n",
    "def fit_generator(files, batch_size=32):\n",
    "    batch_size = min(batch_size, len(files))\n",
    "    while True:\n",
    "        shuffle(files)\n",
    "        for k in range(len(files) // batch_size):\n",
    "            i = k * batch_size\n",
    "            j = i + batch_size\n",
    "            if j > len(files):\n",
    "                j = - j % len(files)\n",
    "            x = np.array([load_image(path) for path in files[i:j]])\n",
    "            y = np.array([1. if os.path.basename(path).startswith('dog') else 0.\n",
    "                          for path in files[i:j]])\n",
    "            yield (x, y)"
   ]
  },
  {
   "cell_type": "markdown",
   "id": "891ae34a",
   "metadata": {},
   "source": [
    "Функция `fit_generator` загружает обучающие данные с диска и формирует из них батчи"
   ]
  },
  {
   "cell_type": "code",
   "execution_count": null,
   "id": "d643e359",
   "metadata": {},
   "outputs": [],
   "source": [
    "# функция-генератор загрузки тестовых изображений с диска\n",
    "def predict_generator(files):\n",
    "    while True:\n",
    "        for path in files:\n",
    "            yield np.array([load_image(path)])"
   ]
  },
  {
   "cell_type": "code",
   "execution_count": null,
   "id": "626311a8",
   "metadata": {},
   "outputs": [],
   "source": []
  },
  {
   "cell_type": "code",
   "execution_count": null,
   "id": "bfff61ca",
   "metadata": {},
   "outputs": [],
   "source": []
  },
  {
   "cell_type": "code",
   "execution_count": null,
   "id": "f62da483",
   "metadata": {},
   "outputs": [],
   "source": []
  },
  {
   "cell_type": "code",
   "execution_count": 19,
   "id": "19471ce8",
   "metadata": {},
   "outputs": [
    {
     "data": {
      "text/plain": [
       "['datas/extracted/train/cat.1206.jpg',\n",
       " 'datas/extracted/train/cat.10563.jpg',\n",
       " 'datas/extracted/train/cat.11224.jpg']"
      ]
     },
     "execution_count": 19,
     "metadata": {},
     "output_type": "execute_result"
    }
   ],
   "source": [
    "train_files[:3]"
   ]
  },
  {
   "cell_type": "code",
   "execution_count": 24,
   "id": "190663ee",
   "metadata": {},
   "outputs": [
    {
     "name": "stdout",
     "output_type": "stream",
     "text": [
      "(456, 499, 3)\n",
      "(224, 224, 3)\n"
     ]
    }
   ],
   "source": [
    "img = cv2.imread('datas/extracted/train/cat.1206.jpg')[...,::-1]\n",
    "print(img.shape)\n",
    "img = cv2.resize(img, IMG_SIZE)\n",
    "print(img.shape)"
   ]
  },
  {
   "cell_type": "code",
   "execution_count": 23,
   "id": "f77aa473",
   "metadata": {},
   "outputs": [
    {
     "data": {
      "text/plain": [
       "(456, 499, 3)"
      ]
     },
     "execution_count": 23,
     "metadata": {},
     "output_type": "execute_result"
    }
   ],
   "source": [
    "img = cv2.imread('datas/extracted/train/cat.1206.jpg')\n",
    "img.shape"
   ]
  }
 ],
 "metadata": {
  "kernelspec": {
   "display_name": "Python 3 (ipykernel)",
   "language": "python",
   "name": "python3"
  },
  "language_info": {
   "codemirror_mode": {
    "name": "ipython",
    "version": 3
   },
   "file_extension": ".py",
   "mimetype": "text/x-python",
   "name": "python",
   "nbconvert_exporter": "python",
   "pygments_lexer": "ipython3",
   "version": "3.11.13"
  }
 },
 "nbformat": 4,
 "nbformat_minor": 5
}
