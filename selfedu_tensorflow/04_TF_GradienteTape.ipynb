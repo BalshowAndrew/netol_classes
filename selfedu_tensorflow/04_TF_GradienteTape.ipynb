{
 "cells": [
  {
   "cell_type": "markdown",
   "id": "631016ac",
   "metadata": {},
   "source": [
    "# Реализация автоматического дифференцирования"
   ]
  },
  {
   "cell_type": "code",
   "execution_count": 1,
   "id": "30730492",
   "metadata": {},
   "outputs": [],
   "source": [
    "import tensorflow as tf"
   ]
  },
  {
   "cell_type": "markdown",
   "id": "dba4e0db",
   "metadata": {},
   "source": [
    "## 01 example"
   ]
  },
  {
   "cell_type": "code",
   "execution_count": 2,
   "id": "eed718c5",
   "metadata": {},
   "outputs": [
    {
     "name": "stdout",
     "output_type": "stream",
     "text": [
      "tf.Tensor(-4.0, shape=(), dtype=float32)\n"
     ]
    }
   ],
   "source": [
    "# создаем переменную\n",
    "x = tf.Variable(-2.0)\n",
    "\n",
    "with tf.GradientTape() as tape:\n",
    "    y = x ** 2\n",
    "\n",
    "df = tape.gradient(y, x)\n",
    "print(df)    "
   ]
  },
  {
   "cell_type": "markdown",
   "id": "98114bbf",
   "metadata": {},
   "source": [
    "## 02 exapmle"
   ]
  },
  {
   "cell_type": "code",
   "execution_count": 3,
   "id": "18863c5b",
   "metadata": {},
   "outputs": [],
   "source": [
    "w = tf.Variable(tf.random.normal((3, 2)))\n",
    "b = tf.Variable(tf.zeros(2, dtype=tf.float32))\n",
    "x = tf.Variable([[-2.0, 1.0, 3.0]])"
   ]
  },
  {
   "cell_type": "code",
   "execution_count": 4,
   "id": "11a4c672",
   "metadata": {},
   "outputs": [
    {
     "data": {
      "text/plain": [
       "<tf.Variable 'Variable:0' shape=(3, 2) dtype=float32, numpy=\n",
       "array([[ 0.7462019 , -0.00618961],\n",
       "       [ 1.2371953 , -1.3333826 ],\n",
       "       [-0.9515552 , -0.8407472 ]], dtype=float32)>"
      ]
     },
     "execution_count": 4,
     "metadata": {},
     "output_type": "execute_result"
    }
   ],
   "source": [
    "w"
   ]
  },
  {
   "cell_type": "code",
   "execution_count": 5,
   "id": "9f102a3f",
   "metadata": {},
   "outputs": [
    {
     "data": {
      "text/plain": [
       "<tf.Variable 'Variable:0' shape=(2,) dtype=float32, numpy=array([0., 0.], dtype=float32)>"
      ]
     },
     "execution_count": 5,
     "metadata": {},
     "output_type": "execute_result"
    }
   ],
   "source": [
    "b"
   ]
  },
  {
   "cell_type": "code",
   "execution_count": 6,
   "id": "e3fccdf1",
   "metadata": {},
   "outputs": [
    {
     "data": {
      "text/plain": [
       "<tf.Variable 'Variable:0' shape=(1, 3) dtype=float32, numpy=array([[-2.,  1.,  3.]], dtype=float32)>"
      ]
     },
     "execution_count": 6,
     "metadata": {},
     "output_type": "execute_result"
    }
   ],
   "source": [
    "x"
   ]
  },
  {
   "cell_type": "code",
   "execution_count": 7,
   "id": "0be277ab",
   "metadata": {},
   "outputs": [
    {
     "name": "stdout",
     "output_type": "stream",
     "text": [
      "tf.Tensor(\n",
      "[[  6.219748   7.68649 ]\n",
      " [ -3.109874  -3.843245]\n",
      " [ -9.329622 -11.529736]], shape=(3, 2), dtype=float32)\n",
      "tf.Tensor([-3.109874 -3.843245], shape=(2,), dtype=float32)\n"
     ]
    }
   ],
   "source": [
    "with tf.GradientTape() as tape:\n",
    "    y = x @ w + b\n",
    "    loss = tf.reduce_mean(y ** 2)\n",
    "\n",
    "df = tape.gradient(loss, [w, b])    \n",
    "print(df[0], df[1], sep=\"\\n\")"
   ]
  },
  {
   "cell_type": "markdown",
   "id": "669f7703",
   "metadata": {},
   "source": [
    "В методе `gradient()` первым параметром указываем функцию `loss`, а вторым - список аргументов, от которых вычисляем частные производные в точках `w, b` и при заданном значении"
   ]
  },
  {
   "cell_type": "markdown",
   "id": "0d4d07fb",
   "metadata": {},
   "source": [
    "## 03 example"
   ]
  },
  {
   "cell_type": "code",
   "execution_count": 8,
   "id": "bc19931e",
   "metadata": {},
   "outputs": [
    {
     "name": "stdout",
     "output_type": "stream",
     "text": [
      "tf.Tensor(3.0, shape=(), dtype=float32)\n",
      "None\n"
     ]
    }
   ],
   "source": [
    "x = tf.Variable(0, dtype=tf.float32)\n",
    "b = tf.constant(1.5)\n",
    "\n",
    "with tf.GradientTape() as tape:\n",
    "    f = (x + b) ** 2 + 2 * b\n",
    "    \n",
    "df = tape.gradient(f, [x, b])    \n",
    "print(df[0], df[1], sep=\"\\n\")"
   ]
  },
  {
   "cell_type": "markdown",
   "id": "49168b1c",
   "metadata": {},
   "source": [
    "Переменная `b` - это константа, подтому производная по `b` не была вычислена\n",
    "\n",
    "Преобразуе константу в переменную:"
   ]
  },
  {
   "cell_type": "code",
   "execution_count": 9,
   "id": "73e24ecd",
   "metadata": {},
   "outputs": [
    {
     "name": "stdout",
     "output_type": "stream",
     "text": [
      "tf.Tensor(3.0, shape=(), dtype=float32)\n",
      "tf.Tensor(5.0, shape=(), dtype=float32)\n"
     ]
    }
   ],
   "source": [
    "x = tf.Variable(0, dtype=tf.float32)\n",
    "b = tf.Variable(1.5)\n",
    "\n",
    "with tf.GradientTape() as tape:\n",
    "    f = (x + b) ** 2 + 2 * b\n",
    "    \n",
    "df = tape.gradient(f, [x, b])    \n",
    "print(df[0], df[1], sep=\"\\n\")"
   ]
  },
  {
   "cell_type": "markdown",
   "id": "2687c554",
   "metadata": {},
   "source": [
    "Запретим отслеживание переменной `x`:"
   ]
  },
  {
   "cell_type": "code",
   "execution_count": 10,
   "id": "c45005c0",
   "metadata": {},
   "outputs": [
    {
     "name": "stdout",
     "output_type": "stream",
     "text": [
      "None\n",
      "tf.Tensor(5.0, shape=(), dtype=float32)\n"
     ]
    }
   ],
   "source": [
    "x = tf.Variable(0, dtype=tf.float32, trainable=False)\n",
    "b = tf.Variable(1.5)\n",
    "\n",
    "with tf.GradientTape() as tape:\n",
    "    f = (x + b) ** 2 + 2 * b\n",
    "    \n",
    "df = tape.gradient(f, [x, b])    \n",
    "print(df[0], df[1], sep=\"\\n\")"
   ]
  },
  {
   "cell_type": "markdown",
   "id": "7f9ee6e8",
   "metadata": {},
   "source": [
    "Полное отключение отслеживания переменных:"
   ]
  },
  {
   "cell_type": "code",
   "execution_count": 11,
   "id": "bd1b7f44",
   "metadata": {},
   "outputs": [
    {
     "name": "stdout",
     "output_type": "stream",
     "text": [
      "None\n",
      "None\n"
     ]
    }
   ],
   "source": [
    "x = tf.Variable(0, dtype=tf.float32)\n",
    "b = tf.Variable(1.5)\n",
    "\n",
    "with tf.GradientTape(watch_accessed_variables=False) as tape:\n",
    "    f = (x + b) ** 2 + 2 * b\n",
    "    \n",
    "df = tape.gradient(f, [x, b])    \n",
    "print(df[0], df[1], sep=\"\\n\")"
   ]
  },
  {
   "cell_type": "markdown",
   "id": "e6ade460",
   "metadata": {},
   "source": [
    "Укажем переменные, которые следует наблюдать:"
   ]
  },
  {
   "cell_type": "code",
   "execution_count": 12,
   "id": "e1fdd87e",
   "metadata": {},
   "outputs": [
    {
     "name": "stdout",
     "output_type": "stream",
     "text": [
      "tf.Tensor(3.0, shape=(), dtype=float32)\n",
      "None\n"
     ]
    }
   ],
   "source": [
    "x = tf.Variable(0, dtype=tf.float32)\n",
    "b = tf.Variable(1.5)\n",
    "\n",
    "with tf.GradientTape(watch_accessed_variables=False) as tape:\n",
    "    tape.watch(x)\n",
    "    f = (x + b) ** 2 + 2 * b\n",
    "    \n",
    "df = tape.gradient(f, [x, b])    \n",
    "print(df[0], df[1], sep=\"\\n\")"
   ]
  },
  {
   "cell_type": "code",
   "execution_count": 13,
   "id": "b3eea311",
   "metadata": {},
   "outputs": [
    {
     "name": "stdout",
     "output_type": "stream",
     "text": [
      "tf.Tensor(3.0, shape=(), dtype=float32)\n",
      "tf.Tensor(5.0, shape=(), dtype=float32)\n"
     ]
    }
   ],
   "source": [
    "x = tf.Variable(0, dtype=tf.float32)\n",
    "b = tf.Variable(1.5)\n",
    "\n",
    "with tf.GradientTape(watch_accessed_variables=False) as tape:\n",
    "    tape.watch([x, b])\n",
    "    f = (x + b) ** 2 + 2 * b\n",
    "    \n",
    "df = tape.gradient(f, [x, b])    \n",
    "print(df[0], df[1], sep=\"\\n\")"
   ]
  },
  {
   "cell_type": "markdown",
   "id": "f5686878",
   "metadata": {},
   "source": [
    "## 04 example"
   ]
  },
  {
   "cell_type": "markdown",
   "id": "c9852a78",
   "metadata": {},
   "source": [
    "Также отслеживание происходит и для всех промежуточных переменных, которые связаны с наблюдаемой переменной."
   ]
  },
  {
   "cell_type": "code",
   "execution_count": 14,
   "id": "bd437ff0",
   "metadata": {},
   "outputs": [
    {
     "name": "stdout",
     "output_type": "stream",
     "text": [
      "tf.Tensor(8.0, shape=(), dtype=float32)\n"
     ]
    }
   ],
   "source": [
    "x = tf.Variable(2, dtype=tf.float32)\n",
    "y = tf.Variable(3, dtype=tf.float32)\n",
    "\n",
    "with tf.GradientTape(watch_accessed_variables=False) as tape:\n",
    "    tape.watch(x)\n",
    "    y = 2 * x\n",
    "    f = y * y\n",
    " \n",
    "df = tape.gradient(f, y)\n",
    "print(df)"
   ]
  }
 ],
 "metadata": {
  "kernelspec": {
   "display_name": "Python 3 (ipykernel)",
   "language": "python",
   "name": "python3"
  },
  "language_info": {
   "codemirror_mode": {
    "name": "ipython",
    "version": 3
   },
   "file_extension": ".py",
   "mimetype": "text/x-python",
   "name": "python",
   "nbconvert_exporter": "python",
   "pygments_lexer": "ipython3",
   "version": "3.11.13"
  }
 },
 "nbformat": 4,
 "nbformat_minor": 5
}
